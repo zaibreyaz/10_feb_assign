{
 "cells": [
  {
   "cell_type": "code",
   "execution_count": null,
   "id": "1661136b-1f52-4a72-b638-83e73e94e402",
   "metadata": {},
   "outputs": [],
   "source": [
    "\"\"\"Q1. Which function is used to open a file? What are the different modes of opening a file? Explain each mode of file opening.\"\"\"\n",
    "\n",
    "\"\"\"Ans: We use open() function to open a file it takes two parameter filname and mode.\n",
    "        The different modes of opening a file are:\n",
    "        1. 'r' - Read - Default value. Opens a file for reading, error if the file does not exist\n",
    "        2. 'a' - Append - Opens a file for appending, creates the file if it does not exist\n",
    "        3. 'w' - Write - Opens a file for writing, creates the file if it does not exist\n",
    "        4. 'x' - Create - Creates the specified file, returns an error if the file exists\n",
    "        5. 'b' - Binary - Binary mode (e.g. images)\n",
    "\"\"\""
   ]
  },
  {
   "cell_type": "code",
   "execution_count": null,
   "id": "30837c04-868e-4490-8874-74d3b3e3e272",
   "metadata": {},
   "outputs": [],
   "source": [
    "\"\"\"Q2. Why close() function is used? Why is it important to close a file?\"\"\"\n",
    "\n",
    "\"\"\"Ans: The close () function closes the connection between the program and an open file identified by a handle.\n",
    "        Closing a file is always necessary when dealing with files, it is not a good idea to leave open file handles all over the place. \n",
    "        They will eventually be closed when the file object is garbage collected but you do not know when that will be and \n",
    "        in the mean time you will be wasting system resources by holding to file handles you no longer need.\n",
    "\"\"\""
   ]
  },
  {
   "cell_type": "code",
   "execution_count": 20,
   "id": "1336250c-7eba-4868-a816-6800fe1995dc",
   "metadata": {},
   "outputs": [],
   "source": [
    "\"\"\"Q3. Write a python program to create a text file. Write ‘I want to become a Data Scientist’ in that file. Then close the file. \n",
    "        Open this file and read the content of the file.\"\"\"\n",
    "\n",
    "# Ans: \n",
    "import logging\n",
    "logging.basicConfig(filename = 'test.log', level = logging.INFO)\n",
    "\n",
    "with open(\"text3.txt\", 'w') as file:\n",
    "    file.write(\"I want to become a Data Scientist\")\n",
    "    \n",
    "with open('text3.txt', 'r') as file2:\n",
    "    data = file2.read()\n",
    "    logging.info(data)\n",
    "\n"
   ]
  },
  {
   "cell_type": "code",
   "execution_count": 21,
   "id": "b4d428a5-0d7f-476c-81fc-582ef6090cee",
   "metadata": {},
   "outputs": [],
   "source": [
    "logging.shutdown()"
   ]
  },
  {
   "cell_type": "code",
   "execution_count": 23,
   "id": "1bfd3c2b-a6d4-4539-a5a5-1a906dd42ea6",
   "metadata": {},
   "outputs": [],
   "source": [
    "\"\"\"Q4. Explain the following with python code: read(), readline() and readlines().\"\"\"\n",
    "\n",
    "# Ans:\n",
    "import logging\n",
    "logging.basicConfig(filename = \"test.log\", level = logging.INFO)\n",
    "\n",
    "\n",
    "with open(\"text4.txt\", 'w') as file:\n",
    "    file.write(\"I want to learn Machine Learning in this year\\n\")\n",
    "    file.write(\"I want to get a good intership in this year\\n\")\n",
    "    file.write(\"I want to become a data scientist\")\n",
    "    \n",
    "with open(\"text4.txt\", 'r') as file:\n",
    "    data1 = file.read()\n",
    "    logging.info(data1)\n",
    "    \n",
    "with open(\"text4.txt\", 'r') as file: \n",
    "    data2 = file.readline()\n",
    "    logging.info(data2)  \n",
    "    \n",
    "with open(\"text4.txt\", 'r') as file:\n",
    "    data3 = file.readlines()\n",
    "    logging.info(data3)\n",
    "    \n",
    "logging.shutdown()"
   ]
  },
  {
   "cell_type": "code",
   "execution_count": null,
   "id": "a8642eee-dffa-4798-b3be-c519a157146f",
   "metadata": {},
   "outputs": [],
   "source": [
    "\"\"\"Q5. Explain why with statement is used with open(). What is the advantage of using with statement and open() together?\"\"\"\n",
    "\n",
    "\"\"\"Ans: Benefits of calling open () using “with statement” Fewer chances of bug due to coding error No need to explicitly \n",
    "        close the opened file, “with statement” takes care of that. When with the block ends, it will automatically close the file.\n",
    "\"\"\""
   ]
  },
  {
   "cell_type": "code",
   "execution_count": 25,
   "id": "87d0242f-986f-4659-9f4d-d2bee5bbc515",
   "metadata": {},
   "outputs": [
    {
     "data": {
      "text/plain": [
       "'Both of the above will give same output after execution'"
      ]
     },
     "execution_count": 25,
     "metadata": {},
     "output_type": "execute_result"
    }
   ],
   "source": [
    "\"\"\"Q6. Explain the write() and writelines() functions. Give a suitable example.\"\"\"\n",
    "\n",
    "\"\"\"Ans: The write() function will write the content in the file without adding any extra characters.\n",
    "        The writeline() function writes the content of a list to a file.\n",
    "\"\"\"\n",
    "\n",
    "# By using write()\n",
    "\n",
    "with open(\"text5.txt\", 'w') as file:\n",
    "    file.write('Zaib')\n",
    "    file.write('Dayaan')\n",
    "    file.write('Data Scientist')\n",
    "    \n",
    "# By using writelines()\n",
    "\n",
    "with open(\"text6.txt\", 'w') as file:\n",
    "    data = ['Zaib', 'Dayaan', 'Data Scientist']\n",
    "    file.writelines(data)\n",
    "    \n",
    "\"\"\"Both of the above will give same output after execution\"\"\""
   ]
  },
  {
   "cell_type": "code",
   "execution_count": null,
   "id": "f6171d62-4a84-4338-b6b2-9d2adf963367",
   "metadata": {},
   "outputs": [],
   "source": []
  }
 ],
 "metadata": {
  "kernelspec": {
   "display_name": "Python 3 (ipykernel)",
   "language": "python",
   "name": "python3"
  },
  "language_info": {
   "codemirror_mode": {
    "name": "ipython",
    "version": 3
   },
   "file_extension": ".py",
   "mimetype": "text/x-python",
   "name": "python",
   "nbconvert_exporter": "python",
   "pygments_lexer": "ipython3",
   "version": "3.10.8"
  }
 },
 "nbformat": 4,
 "nbformat_minor": 5
}
